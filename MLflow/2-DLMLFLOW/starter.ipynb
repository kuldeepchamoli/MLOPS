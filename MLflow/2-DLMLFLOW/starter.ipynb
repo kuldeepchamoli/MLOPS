{
 "cells": [
  {
   "cell_type": "markdown",
   "metadata": {},
   "source": [
    "compare runs,choose model,deploy to rest api"
   ]
  },
  {
   "cell_type": "code",
   "execution_count": 1,
   "metadata": {},
   "outputs": [],
   "source": [
    "### \n",
    "# run hyperparamter sweep on a training script\n",
    "# Compare the resuts of the runs in Mlflow ui\n",
    "# Choose the best run and resister it as amodel\n",
    "#Deploy the model to a rest api\n",
    "#build a container image suitable for deployment to a cloud platform"
   ]
  },
  {
   "cell_type": "code",
   "execution_count": 7,
   "metadata": {},
   "outputs": [],
   "source": [
    "import keras"
   ]
  },
  {
   "cell_type": "code",
   "execution_count": 8,
   "metadata": {},
   "outputs": [],
   "source": [
    "import numpy as np\n",
    "import pandas as pd\n",
    "from hyperopt import STATUS_OK,Trials,fmin,hp,tpe\n",
    "from sklearn.model_selection import train_test_split\n",
    "\n",
    "import mlflow \n",
    "from mlflow.models import infer_signature"
   ]
  },
  {
   "cell_type": "code",
   "execution_count": 9,
   "metadata": {},
   "outputs": [
    {
     "name": "stdout",
     "output_type": "stream",
     "text": [
      "   fixed acidity  volatile acidity  citric acid  residual sugar  chlorides  \\\n",
      "0            7.0              0.27         0.36            20.7      0.045   \n",
      "1            6.3              0.30         0.34             1.6      0.049   \n",
      "2            8.1              0.28         0.40             6.9      0.050   \n",
      "3            7.2              0.23         0.32             8.5      0.058   \n",
      "4            7.2              0.23         0.32             8.5      0.058   \n",
      "\n",
      "   free sulfur dioxide  total sulfur dioxide  density    pH  sulphates  \\\n",
      "0                 45.0                 170.0   1.0010  3.00       0.45   \n",
      "1                 14.0                 132.0   0.9940  3.30       0.49   \n",
      "2                 30.0                  97.0   0.9951  3.26       0.44   \n",
      "3                 47.0                 186.0   0.9956  3.19       0.40   \n",
      "4                 47.0                 186.0   0.9956  3.19       0.40   \n",
      "\n",
      "   alcohol  quality  \n",
      "0      8.8        6  \n",
      "1      9.5        6  \n",
      "2     10.1        6  \n",
      "3      9.9        6  \n",
      "4      9.9        6  \n"
     ]
    }
   ],
   "source": [
    "import pandas as pd\n",
    "\n",
    "# Load the dataset\n",
    "data = pd.read_csv(\n",
    "    \"https://raw.githubusercontent.com/mlflow/mlflow/master/tests/datasets/winequality-white.csv\",\n",
    "    sep=\";\"\n",
    ")\n",
    "\n",
    "# Display the first few rows\n",
    "print(data.head())\n"
   ]
  },
  {
   "cell_type": "code",
   "execution_count": 10,
   "metadata": {},
   "outputs": [],
   "source": [
    "## Split the data into training ,validation and test sets\n",
    "\n",
    "train,test=train_test_split(data,test_size=0.25,random_state=42)"
   ]
  },
  {
   "cell_type": "code",
   "execution_count": null,
   "metadata": {},
   "outputs": [],
   "source": []
  },
  {
   "cell_type": "code",
   "execution_count": 18,
   "metadata": {},
   "outputs": [],
   "source": [
    "# Extract features and target\n",
    "X = train.drop(['quality'], axis=1).values\n",
    "y = train[['quality']].values.ravel()\n",
    "\n",
    "# Split into training and validation sets\n",
    "train_x, valid_x, train_y, valid_y = train_test_split(X, y, test_size=0.20, random_state=42)\n",
    "\n",
    "# Infer MLflow model signature\n",
    "signature = infer_signature(train_x, train_y)\n"
   ]
  },
  {
   "cell_type": "code",
   "execution_count": 19,
   "metadata": {},
   "outputs": [
    {
     "data": {
      "text/plain": [
       "array([6.86621852e+00, 2.80377808e-01, 3.32597005e-01, 6.42164738e+00,\n",
       "       4.55513955e-02, 3.53556841e+01, 1.38792376e+02, 9.94074221e-01,\n",
       "       3.18919333e+00, 4.88396869e-01, 1.05005673e+01])"
      ]
     },
     "execution_count": 19,
     "metadata": {},
     "output_type": "execute_result"
    }
   ],
   "source": [
    "np.mean(train_x,axis=0)"
   ]
  },
  {
   "cell_type": "code",
   "execution_count": 20,
   "metadata": {},
   "outputs": [],
   "source": [
    "import numpy as np\n",
    "import mlflow\n",
    "import keras\n",
    "from keras import layers\n",
    "from keras.models import Sequential\n",
    "from keras.optimizers import SGD\n",
    "from keras.metrics import RootMeanSquaredError\n",
    "from hyperopt import STATUS_OK\n",
    "\n",
    "def train_model(params, epochs, train_x, train_y, valid_x, valid_y, test_x, test_y):\n",
    "    \"\"\"\n",
    "    Trains an Artificial Neural Network (ANN) using the given hyperparameters and logs the experiment in MLflow.\n",
    "\n",
    "    Args:\n",
    "        params (dict): Dictionary of hyperparameters (learning rate, momentum).\n",
    "        epochs (int): Number of epochs to train.\n",
    "        train_x, train_y: Training data.\n",
    "        valid_x, valid_y: Validation data.\n",
    "        test_x, test_y: Test data.\n",
    "\n",
    "    Returns:\n",
    "        dict: Dictionary containing loss, status, and trained model.\n",
    "    \"\"\"\n",
    "\n",
    "    ## Compute normalization parameters (mean & variance) from training data\n",
    "    mean = np.mean(train_x, axis=0)\n",
    "    var = np.var(train_x, axis=0)\n",
    "\n",
    "    ## Define ANN model architecture\n",
    "    model = Sequential([\n",
    "        keras.Input(shape=[train_x.shape[1]]),  # Input layer\n",
    "        layers.Normalization(mean=mean, variance=var),  # Normalization layer\n",
    "        layers.Dense(64, activation=\"relu\"),  # Hidden layer with 64 neurons\n",
    "        layers.Dense(1)  # Output layer with a single neuron (for regression)\n",
    "    ])\n",
    "\n",
    "    ## Compile the model with SGD optimizer\n",
    "    model.compile(\n",
    "        optimizer=SGD(learning_rate=params[\"lr\"], momentum=params[\"momentum\"]),\n",
    "        loss=\"mean_squared_error\",\n",
    "        metrics=[RootMeanSquaredError()]  # Ensure metrics are properly instantiated\n",
    "    )\n",
    "\n",
    "    ## Start MLflow tracking for the experiment\n",
    "    with mlflow.start_run(nested=True):\n",
    "        print(\"Training model with parameters:\", params)\n",
    "\n",
    "        ## Train the model with the given parameters\n",
    "        model.fit(\n",
    "            train_x, train_y,\n",
    "            validation_data=(valid_x, valid_y),\n",
    "            epochs=epochs,  # Fixed typo from `spochs` to `epochs`\n",
    "            batch_size=64,\n",
    "            verbose=1\n",
    "        )\n",
    "\n",
    "        ## Evaluate the model on validation data\n",
    "        eval_result = model.evaluate(valid_x, valid_y, batch_size=64, verbose=0)\n",
    "        eval_rmse = eval_result[1]  # Root Mean Squared Error (RMSE)\n",
    "\n",
    "        ## Log hyperparameters and evaluation results to MLflow\n",
    "        mlflow.log_params(params)\n",
    "        mlflow.log_metric(\"eval_rmse\", eval_rmse)\n",
    "\n",
    "        ## Log the trained model into MLflow\n",
    "        mlflow.tensorflow.log_model(model, \"model\")\n",
    "\n",
    "        ## Return the evaluation loss, status, and trained model\n",
    "        return {\"loss\": eval_rmse, \"status\": STATUS_OK, \"model\": model}\n"
   ]
  },
  {
   "cell_type": "code",
   "execution_count": 21,
   "metadata": {},
   "outputs": [],
   "source": [
    "# Extract features and target from the test set\n",
    "test_x = test.drop(['quality'], axis=1).values\n",
    "test_y = test[['quality']].values.ravel()\n"
   ]
  },
  {
   "cell_type": "code",
   "execution_count": 22,
   "metadata": {},
   "outputs": [],
   "source": [
    "def objective(params):\n",
    "    # MLflow track paramters and result for each run\n",
    "    result=train_model(\n",
    "        params,\n",
    "        epochs=3,\n",
    "        train_x=train_x,\n",
    "        train_y=train_y,\n",
    "        valid_x=valid_x,\n",
    "        valid_y=valid_y,\n",
    "        test_x=test_x,\n",
    "        test_y=test_y\n",
    "    )\n",
    "    return result"
   ]
  },
  {
   "cell_type": "code",
   "execution_count": 23,
   "metadata": {},
   "outputs": [],
   "source": [
    "space={\n",
    "    \"lr\":hp.loguniform(\"lr\",np.log(1e-5),np.log(1e-1)),\n",
    "    \"momentum\":hp.uniform(\"momentum\",0.0,1.0)\n",
    "}"
   ]
  },
  {
   "cell_type": "code",
   "execution_count": null,
   "metadata": {},
   "outputs": [
    {
     "name": "stdout",
     "output_type": "stream",
     "text": [
      "  0%|          | 0/4 [00:00<?, ?trial/s, best loss=?]"
     ]
    },
    {
     "name": "stdout",
     "output_type": "stream",
     "text": [
      "Training model with parameters:                      \n",
      "{'lr': 0.007160554161515186, 'momentum': 0.17352399298540233}\n",
      "Epoch 1/3                                            \n",
      "\n",
      "\u001b[1m 1/46\u001b[0m \u001b[37m━━━━━━━━━━━━━━━━━━━━\u001b[0m \u001b[1m40s\u001b[0m 906ms/step - loss: 39.7480 - root_mean_squared_error: 6.3046\n",
      "\u001b[1m11/46\u001b[0m \u001b[32m━━━━\u001b[0m\u001b[37m━━━━━━━━━━━━━━━━\u001b[0m \u001b[1m0s\u001b[0m 5ms/step - loss: 29.1798 - root_mean_squared_error: 5.3728   \n",
      "\u001b[1m20/46\u001b[0m \u001b[32m━━━━━━━━\u001b[0m\u001b[37m━━━━━━━━━━━━\u001b[0m \u001b[1m0s\u001b[0m 6ms/step - loss: 23.1528 - root_mean_squared_error: 4.7391\n",
      "\u001b[1m34/46\u001b[0m \u001b[32m━━━━━━━━━━━━━━\u001b[0m\u001b[37m━━━━━━\u001b[0m \u001b[1m0s\u001b[0m 5ms/step - loss: 17.8000 - root_mean_squared_error: 4.0975\n",
      "\u001b[1m46/46\u001b[0m \u001b[32m━━━━━━━━━━━━━━━━━━━━\u001b[0m\u001b[37m\u001b[0m \u001b[1m1s\u001b[0m 11ms/step - loss: 14.9019 - root_mean_squared_error: 3.7121 - val_loss: 1.5372 - val_root_mean_squared_error: 1.2398\n",
      "\n",
      "Epoch 2/3                                            \n",
      "\n",
      "\u001b[1m 1/46\u001b[0m \u001b[37m━━━━━━━━━━━━━━━━━━━━\u001b[0m \u001b[1m2s\u001b[0m 49ms/step - loss: 1.4912 - root_mean_squared_error: 1.2212\n",
      "\u001b[1m14/46\u001b[0m \u001b[32m━━━━━━\u001b[0m\u001b[37m━━━━━━━━━━━━━━\u001b[0m \u001b[1m0s\u001b[0m 4ms/step - loss: 1.4003 - root_mean_squared_error: 1.1832 \n",
      "\u001b[1m25/46\u001b[0m \u001b[32m━━━━━━━━━━\u001b[0m\u001b[37m━━━━━━━━━━\u001b[0m \u001b[1m0s\u001b[0m 4ms/step - loss: 1.3709 - root_mean_squared_error: 1.1707\n",
      "\u001b[1m41/46\u001b[0m \u001b[32m━━━━━━━━━━━━━━━━━\u001b[0m\u001b[37m━━━\u001b[0m \u001b[1m0s\u001b[0m 4ms/step - loss: 1.3359 - root_mean_squared_error: 1.1555\n",
      "\u001b[1m46/46\u001b[0m \u001b[32m━━━━━━━━━━━━━━━━━━━━\u001b[0m\u001b[37m\u001b[0m \u001b[1m0s\u001b[0m 6ms/step - loss: 1.3305 - root_mean_squared_error: 1.1532 - val_loss: 1.2057 - val_root_mean_squared_error: 1.0980\n",
      "\n",
      "Epoch 3/3                                            \n",
      "\n",
      "\u001b[1m 1/46\u001b[0m \u001b[37m━━━━━━━━━━━━━━━━━━━━\u001b[0m \u001b[1m1s\u001b[0m 31ms/step - loss: 1.3364 - root_mean_squared_error: 1.1560\n",
      "\u001b[1m22/46\u001b[0m \u001b[32m━━━━━━━━━\u001b[0m\u001b[37m━━━━━━━━━━━\u001b[0m \u001b[1m0s\u001b[0m 2ms/step - loss: 1.0841 - root_mean_squared_error: 1.0407 \n",
      "\u001b[1m41/46\u001b[0m \u001b[32m━━━━━━━━━━━━━━━━━\u001b[0m\u001b[37m━━━\u001b[0m \u001b[1m0s\u001b[0m 3ms/step - loss: 1.0763 - root_mean_squared_error: 1.0371\n",
      "\u001b[1m46/46\u001b[0m \u001b[32m━━━━━━━━━━━━━━━━━━━━\u001b[0m\u001b[37m\u001b[0m \u001b[1m0s\u001b[0m 5ms/step - loss: 1.0708 - root_mean_squared_error: 1.0345 - val_loss: 1.0037 - val_root_mean_squared_error: 1.0019\n",
      "\n",
      "  0%|          | 0/4 [00:02<?, ?trial/s, best loss=?]"
     ]
    },
    {
     "name": "stderr",
     "output_type": "stream",
     "text": [
      "2025/04/03 17:30:58 WARNING mlflow.tensorflow: You are saving a TensorFlow Core model or Keras model without a signature. Inference with mlflow.pyfunc.spark_udf() will not work unless the model's pyfunc representation accepts pandas DataFrames as inference inputs.\n",
      "\n"
     ]
    }
   ],
   "source": [
    "import mlflow\n",
    "from hyperopt import fmin, tpe, Trials\n",
    "\n",
    "# Set the MLflow experiment name\n",
    "mlflow.set_experiment(\"/wine-quality\")\n",
    "\n",
    "# Start an MLflow run\n",
    "with mlflow.start_run():\n",
    "    # Conduct hyperparameter search using Hyperopt\n",
    "    trials = Trials()  # ✅ FIX: Correctly initializing Trials object\n",
    "\n",
    "    best = fmin(\n",
    "        fn=objective,       # Objective function\n",
    "        space=space,        # Hyperparameter search space\n",
    "        algo=tpe.suggest,   # ✅ FIX: Use `tpe.suggest`, not `type.suggest`\n",
    "        max_evals=4,        # Number of evaluations\n",
    "        trials=trials       # Store trial results\n",
    "    )\n",
    "\n",
    "    # Fetch the details of the best run\n",
    "    best_run = sorted(trials.trials, key=lambda x: x['result'][\"loss\"])[0]['result']  # ✅ FIX\n",
    "\n",
    "    # Log the best parameters, loss, and model\n",
    "    mlflow.log_params(best)\n",
    "    mlflow.log_metric(\"eval_rmse\", best_run[\"loss\"])\n",
    "    \n",
    "    # ✅ FIX: Ensure model is properly logged\n",
    "    mlflow.tensorflow.log_model(best_run[\"model\"], \"model\")\n",
    "\n",
    "    # Print out best parameters and corresponding loss\n",
    "    print(f\"Best parameters: {best}\")\n",
    "    print(f\"Best eval RMSE: {best_run['loss']}\")\n"
   ]
  },
  {
   "cell_type": "code",
   "execution_count": null,
   "metadata": {},
   "outputs": [],
   "source": []
  }
 ],
 "metadata": {
  "kernelspec": {
   "display_name": "Python 3",
   "language": "python",
   "name": "python3"
  },
  "language_info": {
   "codemirror_mode": {
    "name": "ipython",
    "version": 3
   },
   "file_extension": ".py",
   "mimetype": "text/x-python",
   "name": "python",
   "nbconvert_exporter": "python",
   "pygments_lexer": "ipython3",
   "version": "3.9.21"
  }
 },
 "nbformat": 4,
 "nbformat_minor": 2
}
